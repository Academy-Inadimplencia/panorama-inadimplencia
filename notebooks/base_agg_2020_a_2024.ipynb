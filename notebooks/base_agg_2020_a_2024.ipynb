{
 "cells": [
  {
   "cell_type": "code",
   "execution_count": 1,
   "id": "a9780486-7ccf-4d84-8750-7ce96878849f",
   "metadata": {},
   "outputs": [],
   "source": [
    "import pandas as pd"
   ]
  },
  {
   "cell_type": "code",
   "execution_count": 3,
   "id": "49844b76-d6a1-4803-9263-4e775a035d0d",
   "metadata": {},
   "outputs": [
    {
     "name": "stdout",
     "output_type": "stream",
     "text": [
      "   data_base  uf cliente                     ocupacao cnae_secao  \\\n",
      "0 2020-01-31  AC      PF  PF - Aposentado/pensionista          -   \n",
      "1 2020-01-31  AC      PF  PF - Aposentado/pensionista          -   \n",
      "2 2020-01-31  AC      PF  PF - Aposentado/pensionista          -   \n",
      "3 2020-01-31  AC      PF  PF - Aposentado/pensionista          -   \n",
      "4 2020-01-31  AC      PF  PF - Aposentado/pensionista          -   \n",
      "\n",
      "                                           porte  \\\n",
      "0  PF - Acima de 20 salários mínimos               \n",
      "1  PF - Acima de 20 salários mínimos               \n",
      "2  PF - Acima de 20 salários mínimos               \n",
      "3  PF - Acima de 20 salários mínimos               \n",
      "4  PF - Acima de 20 salários mínimos               \n",
      "\n",
      "                                 modalidade numero_de_operacoes  \\\n",
      "0                    PF - Cartão de crédito                 974   \n",
      "1                    PF - Cartão de crédito               <= 15   \n",
      "2  PF - Empréstimo com consignação em folha                 797   \n",
      "3  PF - Empréstimo com consignação em folha               <= 15   \n",
      "4  PF - Empréstimo sem consignação em folha                 198   \n",
      "\n",
      "   a_vencer_ate_90_dias  carteira_ativa  carteira_inadimplida_arrastada  \\\n",
      "0            4758621.08      6186180.64                        91888.44   \n",
      "1                 74.78          770.72                            0.00   \n",
      "2            1915326.67     32180285.36                       171468.42   \n",
      "3                  0.00        75981.96                        75981.96   \n",
      "4             351985.99      3153279.41                        45870.20   \n",
      "\n",
      "   ativo_problematico tipo_cliente  \n",
      "0           157442.87           PF  \n",
      "1              770.72           PF  \n",
      "2           171468.42           PF  \n",
      "3            75981.96           PF  \n",
      "4           118921.38           PF  \n"
     ]
    }
   ],
   "source": [
    "import dask.dataframe as dd\n",
    "import pandas as pd\n",
    "# Ler o arquivo Parquet\n",
    "df = dd.read_parquet('C:/Users/AU355EE/OneDrive - EY/Panorama Inadimplência - Projeto Academy/Database/Database BCB/Ouro/Consolidado/consolidado_2020_a_2024.parquet')\n",
    "\n",
    "# Visualizar as primeiras linhas\n",
    "print(df.head())\n"
   ]
  },
  {
   "cell_type": "code",
   "execution_count": 4,
   "id": "3eba46e5-0487-47e0-89e6-d7089f95182b",
   "metadata": {},
   "outputs": [
    {
     "name": "stdout",
     "output_type": "stream",
     "text": [
      "Colunas antes da remoção:\n",
      "Index(['data_base', 'uf', 'cliente', 'ocupacao', 'cnae_secao', 'porte',\n",
      "       'modalidade', 'numero_de_operacoes', 'a_vencer_ate_90_dias',\n",
      "       'carteira_ativa', 'carteira_inadimplida_arrastada',\n",
      "       'ativo_problematico', 'tipo_cliente'],\n",
      "      dtype='object')\n",
      "\n",
      "Colunas após a remoção:\n",
      "Index(['data_base', 'uf', 'cliente', 'ocupacao', 'cnae_secao', 'porte',\n",
      "       'modalidade', 'numero_de_operacoes', 'a_vencer_ate_90_dias',\n",
      "       'carteira_ativa', 'carteira_inadimplida_arrastada',\n",
      "       'ativo_problematico'],\n",
      "      dtype='object')\n"
     ]
    }
   ],
   "source": [
    "print(\"Colunas antes da remoção:\")\n",
    "print(df.columns)\n",
    "\n",
    "# Remover a coluna 'tipo_cliente'\n",
    "df = df.drop(columns=['tipo_cliente'])\n",
    "\n",
    "# Exibir as colunas após a remoção\n",
    "print(\"\\nColunas após a remoção:\")\n",
    "print(df.columns)"
   ]
  },
  {
   "cell_type": "code",
   "execution_count": 5,
   "id": "d22521df-9e18-4f84-9bcb-501ad8c015b4",
   "metadata": {},
   "outputs": [],
   "source": [
    "df[\"numero_de_operacoes\"] = (\n",
    "    df[\"numero_de_operacoes\"]\n",
    "    .str.replace(r\"[^\\d]\", \"\", regex=True)  # Remove tudo que não for número\n",
    "    .astype(int)  # Converte para inteiro\n",
    ")"
   ]
  },
  {
   "cell_type": "code",
   "execution_count": 6,
   "id": "7c3842ee-05d7-464b-912b-7c32f87a06b1",
   "metadata": {},
   "outputs": [
    {
     "name": "stdout",
     "output_type": "stream",
     "text": [
      "   data_base  uf cliente                     ocupacao cnae_secao  \\\n",
      "0 2020-01-31  AC      PF  PF - Aposentado/pensionista          -   \n",
      "1 2020-01-31  AC      PF  PF - Aposentado/pensionista          -   \n",
      "2 2020-01-31  AC      PF  PF - Aposentado/pensionista          -   \n",
      "3 2020-01-31  AC      PF  PF - Aposentado/pensionista          -   \n",
      "4 2020-01-31  AC      PF  PF - Aposentado/pensionista          -   \n",
      "\n",
      "                                           porte  \\\n",
      "0  PF - Acima de 20 salários mínimos               \n",
      "1  PF - Acima de 20 salários mínimos               \n",
      "2  PF - Acima de 20 salários mínimos               \n",
      "3  PF - Acima de 20 salários mínimos               \n",
      "4  PF - Acima de 20 salários mínimos               \n",
      "\n",
      "                                 modalidade  numero_de_operacoes  \\\n",
      "0                    PF - Cartão de crédito                  974   \n",
      "1                    PF - Cartão de crédito                   15   \n",
      "2  PF - Empréstimo com consignação em folha                  797   \n",
      "3  PF - Empréstimo com consignação em folha                   15   \n",
      "4  PF - Empréstimo sem consignação em folha                  198   \n",
      "\n",
      "   a_vencer_ate_90_dias  carteira_ativa  carteira_inadimplida_arrastada  \\\n",
      "0            4758621.08      6186180.64                        91888.44   \n",
      "1                 74.78          770.72                            0.00   \n",
      "2            1915326.67     32180285.36                       171468.42   \n",
      "3                  0.00        75981.96                        75981.96   \n",
      "4             351985.99      3153279.41                        45870.20   \n",
      "\n",
      "   ativo_problematico  \n",
      "0           157442.87  \n",
      "1              770.72  \n",
      "2           171468.42  \n",
      "3            75981.96  \n",
      "4           118921.38  \n"
     ]
    }
   ],
   "source": [
    "print(df.head())"
   ]
  },
  {
   "cell_type": "code",
   "execution_count": 13,
   "id": "70c5b482-4611-4c2d-b759-c735d5794d54",
   "metadata": {},
   "outputs": [],
   "source": [
    "df_agg = df.groupby([\n",
    "    \"data_base\", \"uf\", \"cliente\", \"ocupacao\", \"cnae_secao\", \"porte\", \n",
    "    \"modalidade\", \"numero_de_operacoes\"\n",
    "]).agg({\n",
    "    \"a_vencer_ate_90_dias\": \"sum\",\n",
    "    \"carteira_ativa\": \"sum\",\n",
    "    \"carteira_inadimplida_arrastada\": \"sum\",\n",
    "    \"ativo_problematico\": \"sum\"\n",
    "}).reset_index()"
   ]
  },
  {
   "cell_type": "code",
   "execution_count": 8,
   "id": "a1f1f665-8a7d-4a5d-8d32-622c1225be24",
   "metadata": {},
   "outputs": [
    {
     "data": {
      "text/html": [
       "<div><strong>Dask DataFrame Structure:</strong></div>\n",
       "<table border=\"1\" class=\"dataframe\">\n",
       "  <thead>\n",
       "    <tr style=\"text-align: right;\">\n",
       "      <th></th>\n",
       "      <th>a_vencer_ate_90_dias</th>\n",
       "      <th>carteira_ativa</th>\n",
       "      <th>carteira_inadimplida_arrastada</th>\n",
       "      <th>ativo_problematico</th>\n",
       "    </tr>\n",
       "    <tr>\n",
       "      <th>npartitions=1</th>\n",
       "      <th></th>\n",
       "      <th></th>\n",
       "      <th></th>\n",
       "      <th></th>\n",
       "    </tr>\n",
       "  </thead>\n",
       "  <tbody>\n",
       "    <tr>\n",
       "      <th></th>\n",
       "      <td>float64</td>\n",
       "      <td>float64</td>\n",
       "      <td>float64</td>\n",
       "      <td>float64</td>\n",
       "    </tr>\n",
       "    <tr>\n",
       "      <th></th>\n",
       "      <td>...</td>\n",
       "      <td>...</td>\n",
       "      <td>...</td>\n",
       "      <td>...</td>\n",
       "    </tr>\n",
       "  </tbody>\n",
       "</table>\n",
       "<div>Dask Name: groupbyaggregation, 7 expressions</div>"
      ],
      "text/plain": [
       "Dask DataFrame Structure:\n",
       "              a_vencer_ate_90_dias carteira_ativa carteira_inadimplida_arrastada ativo_problematico\n",
       "npartitions=1                                                                                      \n",
       "                           float64        float64                        float64            float64\n",
       "                               ...            ...                            ...                ...\n",
       "Dask Name: groupbyaggregation, 7 expressions\n",
       "Expr=GroupbyAggregation(frame=Assign(frame=Drop(frame=ReadParquetFSSpec(8c5b7c3), columns=['tipo_cliente'])), arg={'a_vencer_ate_90_dias': 'sum', 'carteira_ativa': 'sum', 'carteira_inadimplida_arrastada': 'sum', 'ativo_problematico': 'sum'}, observed=False)"
      ]
     },
     "execution_count": 8,
     "metadata": {},
     "output_type": "execute_result"
    }
   ],
   "source": [
    "df_agg"
   ]
  },
  {
   "cell_type": "code",
   "execution_count": 9,
   "id": "af0e8409-ee19-4af3-bb4b-9eda6101efb5",
   "metadata": {},
   "outputs": [
    {
     "data": {
      "text/plain": [
       "Dask Series Structure:\n",
       "npartitions=1\n",
       "a_vencer_ate_90_dias              int64\n",
       "carteira_inadimplida_arrastada      ...\n",
       "Dask Name: count, 8 expressions\n",
       "Expr=(GroupbyAggregation(frame=Assign(frame=Drop(frame=ReadParquetFSSpec(8c5b7c3), columns=['tipo_cliente'])), arg={'a_vencer_ate_90_dias': 'sum', 'carteira_ativa': 'sum', 'carteira_inadimplida_arrastada': 'sum', 'ativo_problematico': 'sum'}, observed=False)).count()"
      ]
     },
     "execution_count": 9,
     "metadata": {},
     "output_type": "execute_result"
    }
   ],
   "source": [
    "df_agg.count()"
   ]
  },
  {
   "cell_type": "code",
   "execution_count": 10,
   "id": "8f6e832e-7f16-4046-9352-4a33783e2c94",
   "metadata": {},
   "outputs": [
    {
     "name": "stdout",
     "output_type": "stream",
     "text": [
      "a_vencer_ate_90_dias              float64\n",
      "carteira_ativa                    float64\n",
      "carteira_inadimplida_arrastada    float64\n",
      "ativo_problematico                float64\n",
      "dtype: object\n"
     ]
    }
   ],
   "source": [
    "print(df_agg.dtypes)"
   ]
  },
  {
   "cell_type": "code",
   "execution_count": null,
   "id": "25d06c89-1adc-4bb4-9a5c-8e7bf0661df4",
   "metadata": {},
   "outputs": [],
   "source": [
    "# Salvar o DataFrame em um arquivo CSV\n",
    "# df_agg.to_csv('df_agg.csv', index=False)  # index=False para não salvar o índice\n",
    "\n",
    "# print(\"DataFrame salvo em 'df_agg.csv'\")"
   ]
  },
  {
   "cell_type": "code",
   "execution_count": null,
   "id": "99233551-0b3f-4c0e-a7a2-491e413a82e2",
   "metadata": {},
   "outputs": [
    {
     "name": "stdout",
     "output_type": "stream",
     "text": [
      "DataFrame salvo em 'df_agg.parquet'\n"
     ]
    }
   ],
   "source": [
    "# Salvar o DataFrame em um arquivo CSV\n",
    "# df_agg.to_parquet('df_agg.parquet')  # index=False para não salvar o índice\n",
    "\n",
    "# print(\"DataFrame salvo em 'df_agg.parquet'\")"
   ]
  },
  {
   "cell_type": "code",
   "execution_count": 14,
   "id": "1a80c3b0",
   "metadata": {},
   "outputs": [],
   "source": [
    "# Supondo que df_agg seja um Dask DataFrame\n",
    "df_agg = df_agg.compute()  # Converte para um DataFrame do Pandas\n",
    "\n",
    "# Agora salve como CSV\n",
    "df_agg.to_csv('df_agg.csv', index=False)\n"
   ]
  }
 ],
 "metadata": {
  "kernelspec": {
   "display_name": "Python 3",
   "language": "python",
   "name": "python3"
  },
  "language_info": {
   "codemirror_mode": {
    "name": "ipython",
    "version": 3
   },
   "file_extension": ".py",
   "mimetype": "text/x-python",
   "name": "python",
   "nbconvert_exporter": "python",
   "pygments_lexer": "ipython3",
   "version": "3.13.2"
  }
 },
 "nbformat": 4,
 "nbformat_minor": 5
}
