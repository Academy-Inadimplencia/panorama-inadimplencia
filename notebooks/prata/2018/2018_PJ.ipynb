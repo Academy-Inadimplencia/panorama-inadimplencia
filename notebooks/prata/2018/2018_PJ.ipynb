{
 "cells": [
  {
   "cell_type": "code",
   "execution_count": 1,
   "metadata": {},
   "outputs": [],
   "source": [
    "import pandas as pd\n",
    "import requests\n",
    "import pyarrow.parquet as pq"
   ]
  },
  {
   "cell_type": "code",
   "execution_count": 2,
   "metadata": {},
   "outputs": [],
   "source": [
    "arrow_table = pq.read_table(r\"C:\\Users\\WM328RC\\OneDrive - EY\\Panorama Inadimplência - Projeto Academy\\Database\\Database BCB\\Prata\\resultados\\2018\\inadimplencia_PJ_2018.parquet\")"
   ]
  },
  {
   "cell_type": "code",
   "execution_count": 3,
   "metadata": {},
   "outputs": [],
   "source": [
    "pandas_df = arrow_table.to_pandas()"
   ]
  },
  {
   "cell_type": "code",
   "execution_count": 4,
   "metadata": {},
   "outputs": [],
   "source": [
    "url = \"https://people.ey.com/personal/clarissa_nascimento_br_ey_com/_layouts/15/onedrive.aspx?id=%2Fpersonal%2Fclarissa%5Fnascimento%5Fbr%5Fey%5Fcom%2FDocuments%2FPanorama%20Inadimpl%C3%AAncia%20%2D%20Projeto%20Academy&login_hint=Clarissa%2ENascimento%40br%2Eey%2Ecom&view=0\""
   ]
  },
  {
   "cell_type": "code",
   "execution_count": 5,
   "metadata": {},
   "outputs": [
    {
     "data": {
      "text/plain": [
       "13"
      ]
     },
     "execution_count": 5,
     "metadata": {},
     "output_type": "execute_result"
    }
   ],
   "source": [
    "response = requests.get(url)\n",
    "open(\"inadimplencia_PJ_2018.parquet\", \"wb\").write(response.content)"
   ]
  },
  {
   "cell_type": "code",
   "execution_count": 6,
   "metadata": {},
   "outputs": [],
   "source": [
    "pandas_df.to_parquet(r\"C:\\Users\\WM328RC\\OneDrive - EY\\Panorama Inadimplência - Projeto Academy\\Database\\Database BCB\\Prata\\resultados\\2018\\inadimplencia_PJ_2018.parquet\", engine='pyarrow', compression='snappy', index=False)"
   ]
  },
  {
   "cell_type": "code",
   "execution_count": 7,
   "metadata": {},
   "outputs": [
    {
     "name": "stdout",
     "output_type": "stream",
     "text": [
      "    data_base  uf cliente ocupacao  \\\n",
      "0  2018-01-31  AC      PJ        -   \n",
      "1  2018-01-31  AC      PJ        -   \n",
      "2  2018-01-31  AC      PJ        -   \n",
      "3  2018-01-31  AC      PJ        -   \n",
      "4  2018-01-31  AC      PJ        -   \n",
      "\n",
      "                                          cnae_secao  \\\n",
      "0  PJ - Administração pública, defesa e seguridad...   \n",
      "1  PJ - Administração pública, defesa e seguridad...   \n",
      "2  PJ - Administração pública, defesa e seguridad...   \n",
      "3  PJ - Agricultura, pecuária, produção florestal...   \n",
      "4  PJ - Agricultura, pecuária, produção florestal...   \n",
      "\n",
      "                                           porte  \\\n",
      "0  PJ - Micro                                      \n",
      "1  PJ - Grande                                     \n",
      "2  PJ - Grande                                     \n",
      "3  PJ - Micro                                      \n",
      "4  PJ - Micro                                      \n",
      "\n",
      "                                          modalidade numero_de_operacoes  \\\n",
      "0  PJ - Financiamento de infraestrutura/desenvolv...               <= 15   \n",
      "1                               PJ - Capital de giro               <= 15   \n",
      "2  PJ - Financiamento de infraestrutura/desenvolv...                  26   \n",
      "3                               PJ - Capital de giro               <= 15   \n",
      "4                                  PJ - Investimento               <= 15   \n",
      "\n",
      "  a_vencer_ate_90_dias carteira_ativa carteira_inadimplida_arrastada  \\\n",
      "0                 0,00    16327189,04                           0,00   \n",
      "1            223010,31    16223010,31                           0,00   \n",
      "2          11160598,50   298146704,32                           0,00   \n",
      "3              6185,29       33050,41                           0,00   \n",
      "4             19166,75      147326,15                           0,00   \n",
      "\n",
      "  ativo_problematico  \n",
      "0               0,00  \n",
      "1               0,00  \n",
      "2               0,00  \n",
      "3               0,00  \n",
      "4               0,00  \n"
     ]
    }
   ],
   "source": [
    "print(pandas_df.head())"
   ]
  }
 ],
 "metadata": {
  "kernelspec": {
   "display_name": "venv",
   "language": "python",
   "name": "python3"
  },
  "language_info": {
   "codemirror_mode": {
    "name": "ipython",
    "version": 3
   },
   "file_extension": ".py",
   "mimetype": "text/x-python",
   "name": "python",
   "nbconvert_exporter": "python",
   "pygments_lexer": "ipython3",
   "version": "3.13.2"
  }
 },
 "nbformat": 4,
 "nbformat_minor": 2
}
