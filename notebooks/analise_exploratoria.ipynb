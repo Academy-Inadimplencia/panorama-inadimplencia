{
 "cells": [
  {
   "cell_type": "code",
   "execution_count": 1,
   "id": "3ba73e09-512d-43a7-bd2b-b2da23247d1c",
   "metadata": {},
   "outputs": [
    {
     "name": "stdout",
     "output_type": "stream",
     "text": [
      "   data_base  uf cliente                     ocupacao cnae_secao  \\\n",
      "0 2020-01-31  AC      PF  PF - Aposentado/pensionista          -   \n",
      "1 2020-01-31  AC      PF  PF - Aposentado/pensionista          -   \n",
      "2 2020-01-31  AC      PF  PF - Aposentado/pensionista          -   \n",
      "3 2020-01-31  AC      PF  PF - Aposentado/pensionista          -   \n",
      "4 2020-01-31  AC      PF  PF - Aposentado/pensionista          -   \n",
      "\n",
      "                                           porte  \\\n",
      "0  PF - Acima de 20 salários mínimos               \n",
      "1  PF - Acima de 20 salários mínimos               \n",
      "2  PF - Acima de 20 salários mínimos               \n",
      "3  PF - Acima de 20 salários mínimos               \n",
      "4  PF - Acima de 20 salários mínimos               \n",
      "\n",
      "                                 modalidade numero_de_operacoes  \\\n",
      "0                    PF - Cartão de crédito                 974   \n",
      "1                    PF - Cartão de crédito               <= 15   \n",
      "2  PF - Empréstimo com consignação em folha                 797   \n",
      "3  PF - Empréstimo com consignação em folha               <= 15   \n",
      "4  PF - Empréstimo sem consignação em folha                 198   \n",
      "\n",
      "   a_vencer_ate_90_dias  carteira_ativa  carteira_inadimplida_arrastada  \\\n",
      "0            4758621.08      6186180.64                        91888.44   \n",
      "1                 74.78          770.72                            0.00   \n",
      "2            1915326.67     32180285.36                       171468.42   \n",
      "3                  0.00        75981.96                        75981.96   \n",
      "4             351985.99      3153279.41                        45870.20   \n",
      "\n",
      "   ativo_problematico tipo_cliente  \n",
      "0           157442.87           PF  \n",
      "1              770.72           PF  \n",
      "2           171468.42           PF  \n",
      "3            75981.96           PF  \n",
      "4           118921.38           PF  \n"
     ]
    }
   ],
   "source": [
    "import dask.dataframe as dd\n",
    "\n",
    "# Ler o arquivo Parquet\n",
    "df = dd.read_parquet('C:/Users/VL514KP/OneDrive - EY/Panorama Inadimplência - Projeto Academy/Database/Database BCB/Ouro/Consolidado/consolidado_2020_a_2024.parquet')\n",
    "\n",
    "# Visualizar as primeiras linhas\n",
    "print(df.head())\n"
   ]
  },
  {
   "cell_type": "code",
   "execution_count": 16,
   "id": "2190cf39-cfc2-4d3b-af3c-3807d7d74607",
   "metadata": {},
   "outputs": [
    {
     "data": {
      "text/html": [
       "<div><strong>Dask DataFrame Structure:</strong></div>\n",
       "<table border=\"1\" class=\"dataframe\">\n",
       "  <thead>\n",
       "    <tr style=\"text-align: right;\">\n",
       "      <th></th>\n",
       "      <th>data_base</th>\n",
       "      <th>uf</th>\n",
       "      <th>cliente</th>\n",
       "      <th>ocupacao</th>\n",
       "      <th>cnae_secao</th>\n",
       "      <th>porte</th>\n",
       "      <th>modalidade</th>\n",
       "      <th>numero_de_operacoes</th>\n",
       "      <th>a_vencer_ate_90_dias</th>\n",
       "      <th>carteira_ativa</th>\n",
       "      <th>carteira_inadimplida_arrastada</th>\n",
       "      <th>ativo_problematico</th>\n",
       "    </tr>\n",
       "    <tr>\n",
       "      <th>npartitions=6</th>\n",
       "      <th></th>\n",
       "      <th></th>\n",
       "      <th></th>\n",
       "      <th></th>\n",
       "      <th></th>\n",
       "      <th></th>\n",
       "      <th></th>\n",
       "      <th></th>\n",
       "      <th></th>\n",
       "      <th></th>\n",
       "      <th></th>\n",
       "      <th></th>\n",
       "    </tr>\n",
       "  </thead>\n",
       "  <tbody>\n",
       "    <tr>\n",
       "      <th></th>\n",
       "      <td>datetime64[ns]</td>\n",
       "      <td>string</td>\n",
       "      <td>string</td>\n",
       "      <td>string</td>\n",
       "      <td>string</td>\n",
       "      <td>int64</td>\n",
       "      <td>int64</td>\n",
       "      <td>string</td>\n",
       "      <td>float64</td>\n",
       "      <td>float64</td>\n",
       "      <td>float64</td>\n",
       "      <td>float64</td>\n",
       "    </tr>\n",
       "    <tr>\n",
       "      <th></th>\n",
       "      <td>...</td>\n",
       "      <td>...</td>\n",
       "      <td>...</td>\n",
       "      <td>...</td>\n",
       "      <td>...</td>\n",
       "      <td>...</td>\n",
       "      <td>...</td>\n",
       "      <td>...</td>\n",
       "      <td>...</td>\n",
       "      <td>...</td>\n",
       "      <td>...</td>\n",
       "      <td>...</td>\n",
       "    </tr>\n",
       "    <tr>\n",
       "      <th>...</th>\n",
       "      <td>...</td>\n",
       "      <td>...</td>\n",
       "      <td>...</td>\n",
       "      <td>...</td>\n",
       "      <td>...</td>\n",
       "      <td>...</td>\n",
       "      <td>...</td>\n",
       "      <td>...</td>\n",
       "      <td>...</td>\n",
       "      <td>...</td>\n",
       "      <td>...</td>\n",
       "      <td>...</td>\n",
       "    </tr>\n",
       "    <tr>\n",
       "      <th></th>\n",
       "      <td>...</td>\n",
       "      <td>...</td>\n",
       "      <td>...</td>\n",
       "      <td>...</td>\n",
       "      <td>...</td>\n",
       "      <td>...</td>\n",
       "      <td>...</td>\n",
       "      <td>...</td>\n",
       "      <td>...</td>\n",
       "      <td>...</td>\n",
       "      <td>...</td>\n",
       "      <td>...</td>\n",
       "    </tr>\n",
       "    <tr>\n",
       "      <th></th>\n",
       "      <td>...</td>\n",
       "      <td>...</td>\n",
       "      <td>...</td>\n",
       "      <td>...</td>\n",
       "      <td>...</td>\n",
       "      <td>...</td>\n",
       "      <td>...</td>\n",
       "      <td>...</td>\n",
       "      <td>...</td>\n",
       "      <td>...</td>\n",
       "      <td>...</td>\n",
       "      <td>...</td>\n",
       "    </tr>\n",
       "  </tbody>\n",
       "</table>\n",
       "<div>Dask Name: assign, 11 expressions</div>"
      ],
      "text/plain": [
       "Dask DataFrame Structure:\n",
       "                    data_base      uf cliente ocupacao cnae_secao  porte modalidade numero_de_operacoes a_vencer_ate_90_dias carteira_ativa carteira_inadimplida_arrastada ativo_problematico\n",
       "npartitions=6                                                                                                                                                                                \n",
       "               datetime64[ns]  string  string   string     string  int64      int64              string              float64        float64                        float64            float64\n",
       "                          ...     ...     ...      ...        ...    ...        ...                 ...                  ...            ...                            ...                ...\n",
       "...                       ...     ...     ...      ...        ...    ...        ...                 ...                  ...            ...                            ...                ...\n",
       "                          ...     ...     ...      ...        ...    ...        ...                 ...                  ...            ...                            ...                ...\n",
       "                          ...     ...     ...      ...        ...    ...        ...                 ...                  ...            ...                            ...                ...\n",
       "Dask Name: assign, 11 expressions\n",
       "Expr=Assign(frame=Assign(frame=Drop(frame=Assign(frame=ReadParquetFSSpec(e86c07b)), columns=['tipo_cliente'])))"
      ]
     },
     "execution_count": 16,
     "metadata": {},
     "output_type": "execute_result"
    }
   ],
   "source": [
    "df"
   ]
  },
  {
   "cell_type": "code",
   "execution_count": 17,
   "id": "35050005-e84b-4dc8-ab23-0568038e94ff",
   "metadata": {},
   "outputs": [],
   "source": [
    "import pandas as pd\n",
    "\n",
    "df = pd.read_parquet('C:/Users/VL514KP/OneDrive - EY/Panorama Inadimplência - Projeto Academy/Database/Database BCB/Ouro/Consolidado/consolidado_2020_a_2024.parquet')\n"
   ]
  },
  {
   "cell_type": "code",
   "execution_count": 4,
   "id": "2f8cf6fb-b824-4628-98a3-b2111707430f",
   "metadata": {},
   "outputs": [
    {
     "name": "stdout",
     "output_type": "stream",
     "text": [
      "data_base                          datetime64[ns]\n",
      "uf                                string[pyarrow]\n",
      "cliente                           string[pyarrow]\n",
      "ocupacao                          string[pyarrow]\n",
      "cnae_secao                        string[pyarrow]\n",
      "porte                             string[pyarrow]\n",
      "modalidade                        string[pyarrow]\n",
      "numero_de_operacoes               string[pyarrow]\n",
      "a_vencer_ate_90_dias                      float64\n",
      "carteira_ativa                            float64\n",
      "carteira_inadimplida_arrastada            float64\n",
      "ativo_problematico                        float64\n",
      "tipo_cliente                      string[pyarrow]\n",
      "dtype: object\n"
     ]
    }
   ],
   "source": [
    "print(df.dtypes)"
   ]
  },
  {
   "cell_type": "code",
   "execution_count": 2,
   "id": "a6c42ed8-591d-4bbc-8d94-57a2ee314e45",
   "metadata": {},
   "outputs": [
    {
     "name": "stdout",
     "output_type": "stream",
     "text": [
      "   data_base  uf cliente                     ocupacao cnae_secao  \\\n",
      "0 2020-01-31  AC      PF  PF - Aposentado/pensionista          -   \n",
      "1 2020-01-31  AC      PF  PF - Aposentado/pensionista          -   \n",
      "2 2020-01-31  AC      PF  PF - Aposentado/pensionista          -   \n",
      "3 2020-01-31  AC      PF  PF - Aposentado/pensionista          -   \n",
      "4 2020-01-31  AC      PF  PF - Aposentado/pensionista          -   \n",
      "\n",
      "                                           porte  \\\n",
      "0  PF - Acima de 20 salários mínimos               \n",
      "1  PF - Acima de 20 salários mínimos               \n",
      "2  PF - Acima de 20 salários mínimos               \n",
      "3  PF - Acima de 20 salários mínimos               \n",
      "4  PF - Acima de 20 salários mínimos               \n",
      "\n",
      "                                 modalidade numero_de_operacoes  \\\n",
      "0                    PF - Cartão de crédito                 974   \n",
      "1                    PF - Cartão de crédito               <= 15   \n",
      "2  PF - Empréstimo com consignação em folha                 797   \n",
      "3  PF - Empréstimo com consignação em folha               <= 15   \n",
      "4  PF - Empréstimo sem consignação em folha                 198   \n",
      "\n",
      "   a_vencer_ate_90_dias  carteira_ativa  carteira_inadimplida_arrastada  \\\n",
      "0            4758621.08      6186180.64                        91888.44   \n",
      "1                 74.78          770.72                            0.00   \n",
      "2            1915326.67     32180285.36                       171468.42   \n",
      "3                  0.00        75981.96                        75981.96   \n",
      "4             351985.99      3153279.41                        45870.20   \n",
      "\n",
      "   ativo_problematico tipo_cliente  \n",
      "0           157442.87           PF  \n",
      "1              770.72           PF  \n",
      "2           171468.42           PF  \n",
      "3            75981.96           PF  \n",
      "4           118921.38           PF  \n"
     ]
    }
   ],
   "source": [
    "# Mostrar as primeiras 5 linhas\n",
    "print(df.head())\n"
   ]
  },
  {
   "cell_type": "code",
   "execution_count": 6,
   "id": "07a807aa-5723-4d24-b8ba-cdbeccda57e5",
   "metadata": {},
   "outputs": [
    {
     "name": "stdout",
     "output_type": "stream",
     "text": [
      "                 data_base  a_vencer_ate_90_dias  carteira_ativa  \\\n",
      "count             49462493          5.036926e+07    5.036926e+07   \n",
      "min    2020-01-31 00:00:00          0.000000e+00    1.010000e+00   \n",
      "25%    2020-10-31 00:00:00          3.166130e+03    1.951166e+04   \n",
      "50%    2022-08-31 00:00:00          1.835592e+04    1.113245e+05   \n",
      "75%    2023-04-30 00:00:00          1.045121e+05    6.227407e+05   \n",
      "max    2024-12-31 00:00:00          1.317967e+10    4.312412e+10   \n",
      "mean                   NaN          1.022797e+06    5.793204e+06   \n",
      "std                    NaN          2.148035e+07    1.161249e+08   \n",
      "\n",
      "       carteira_inadimplida_arrastada  ativo_problematico  \n",
      "count                    5.036926e+07        5.036926e+07  \n",
      "min                      0.000000e+00        0.000000e+00  \n",
      "25%                      0.000000e+00        0.000000e+00  \n",
      "50%                      0.000000e+00        0.000000e+00  \n",
      "75%                      2.828850e+03        1.938205e+04  \n",
      "max                      4.594673e+09        1.208346e+10  \n",
      "mean                     1.665261e+05        4.066306e+05  \n",
      "std                      3.956988e+06        1.269362e+07  \n"
     ]
    }
   ],
   "source": [
    "# Estatísticas descritivas\n",
    "stats = df.describe().compute()  # Use compute() para calcular os resultados\n",
    "print(stats)\n"
   ]
  },
  {
   "cell_type": "code",
   "execution_count": 7,
   "id": "19729512-1d81-4711-b614-1f53f3edc388",
   "metadata": {},
   "outputs": [
    {
     "name": "stdout",
     "output_type": "stream",
     "text": [
      "data_base                         906772\n",
      "uf                                     0\n",
      "cliente                                0\n",
      "ocupacao                               0\n",
      "cnae_secao                             0\n",
      "porte                                  0\n",
      "modalidade                             0\n",
      "numero_de_operacoes                    0\n",
      "a_vencer_ate_90_dias                   0\n",
      "carteira_ativa                         0\n",
      "carteira_inadimplida_arrastada         0\n",
      "ativo_problematico                     0\n",
      "tipo_cliente                           0\n",
      "dtype: int64\n"
     ]
    }
   ],
   "source": [
    "# Contar valores nulos em cada coluna\n",
    "null_counts = df.isnull().sum().compute()\n",
    "print(null_counts)\n"
   ]
  },
  {
   "cell_type": "code",
   "execution_count": 8,
   "id": "36bd03ba-0a9a-4650-bb53-50a8c537f2b8",
   "metadata": {},
   "outputs": [
    {
     "name": "stdout",
     "output_type": "stream",
     "text": [
      "Valores únicos na coluna: 59\n"
     ]
    }
   ],
   "source": [
    "# Contar valores únicos em uma coluna específica\n",
    "unique_counts = df['data_base'].nunique().compute()\n",
    "print(f'Valores únicos na coluna: {unique_counts}')\n"
   ]
  },
  {
   "cell_type": "code",
   "execution_count": 9,
   "id": "f92b1e85-0074-44bc-865e-581b7b6ce48d",
   "metadata": {},
   "outputs": [
    {
     "name": "stdout",
     "output_type": "stream",
     "text": [
      "carteira_ativa\n",
      "1.010000e+00    13372\n",
      "1.020000e+00    14739\n",
      "1.030000e+00     4887\n",
      "1.040000e+00     2267\n",
      "1.050000e+00     1400\n",
      "                ...  \n",
      "3.931220e+10        1\n",
      "4.043728e+10        1\n",
      "4.138061e+10        1\n",
      "4.222205e+10        1\n",
      "4.312412e+10        1\n",
      "Length: 30972345, dtype: int64\n"
     ]
    }
   ],
   "source": [
    "# Agrupar por uma coluna e contar\n",
    "grouped_counts = df.groupby('carteira_ativa').size().compute()\n",
    "print(grouped_counts)\n"
   ]
  },
  {
   "cell_type": "code",
   "execution_count": null,
   "id": "842731ec-a36c-4d4d-976b-91c80d5f757d",
   "metadata": {},
   "outputs": [],
   "source": [
    "import matplotlib.pyplot as plt\n",
    "\n",
    "# Converter para Pandas \n",
    "df_pandas = df.compute()\n",
    "\n",
    "# Exemplo de gráfico de barras\n",
    "df_pandas['ativo_problematico'].value_counts().plot(kind='bar')\n",
    "plt.title('Contagem de Valores na Coluna')\n",
    "plt.xlabel('Valores')\n",
    "plt.ylabel('Contagem')\n",
    "plt.show()\n"
   ]
  },
  {
   "cell_type": "code",
   "execution_count": null,
   "id": "fc2f2ae0-70b3-4590-a983-48babec8b6e5",
   "metadata": {},
   "outputs": [],
   "source": [
    "display(df)"
   ]
  },
  {
   "cell_type": "code",
   "execution_count": 3,
   "id": "2591e25d-322d-42d6-9e18-99ad0639c16f",
   "metadata": {},
   "outputs": [],
   "source": [
    "# Converter a coluna para float\n",
    "df['carteira_ativa'] = df['carteira_ativa'].astype(float)"
   ]
  },
  {
   "cell_type": "code",
   "execution_count": 4,
   "id": "e723b094-a1be-4f2e-84ca-0bb9a7afb001",
   "metadata": {},
   "outputs": [
    {
     "name": "stdout",
     "output_type": "stream",
     "text": [
      "data_base                          datetime64[ns]\n",
      "uf                                string[pyarrow]\n",
      "cliente                           string[pyarrow]\n",
      "ocupacao                          string[pyarrow]\n",
      "cnae_secao                        string[pyarrow]\n",
      "porte                             string[pyarrow]\n",
      "modalidade                        string[pyarrow]\n",
      "numero_de_operacoes               string[pyarrow]\n",
      "a_vencer_ate_90_dias                      float64\n",
      "carteira_ativa                            float64\n",
      "carteira_inadimplida_arrastada            float64\n",
      "ativo_problematico                        float64\n",
      "tipo_cliente                      string[pyarrow]\n",
      "dtype: object\n"
     ]
    }
   ],
   "source": [
    "# Verificar os tipos de dados\n",
    "print(df.dtypes)"
   ]
  },
  {
   "cell_type": "code",
   "execution_count": 5,
   "id": "c2120d53-d4db-463b-910f-37469cbcf7e9",
   "metadata": {},
   "outputs": [
    {
     "name": "stdout",
     "output_type": "stream",
     "text": [
      "Colunas antes da remoção:\n",
      "Index(['data_base', 'uf', 'cliente', 'ocupacao', 'cnae_secao', 'porte',\n",
      "       'modalidade', 'numero_de_operacoes', 'a_vencer_ate_90_dias',\n",
      "       'carteira_ativa', 'carteira_inadimplida_arrastada',\n",
      "       'ativo_problematico', 'tipo_cliente'],\n",
      "      dtype='object')\n",
      "\n",
      "Colunas após a remoção:\n",
      "Index(['data_base', 'uf', 'cliente', 'ocupacao', 'cnae_secao', 'porte',\n",
      "       'modalidade', 'numero_de_operacoes', 'a_vencer_ate_90_dias',\n",
      "       'carteira_ativa', 'carteira_inadimplida_arrastada',\n",
      "       'ativo_problematico'],\n",
      "      dtype='object')\n"
     ]
    }
   ],
   "source": [
    "# Exibir as colunas antes da remoção\n",
    "print(\"Colunas antes da remoção:\")\n",
    "print(df.columns)\n",
    "\n",
    "# Remover a coluna 'tipo_cliente'\n",
    "df = df.drop(columns=['tipo_cliente'])\n",
    "\n",
    "# Exibir as colunas após a remoção\n",
    "print(\"\\nColunas após a remoção:\")\n",
    "print(df.columns)"
   ]
  },
  {
   "cell_type": "code",
   "execution_count": 7,
   "id": "82c8d568-ba85-48e5-94cc-eeacb15f5326",
   "metadata": {},
   "outputs": [
    {
     "name": "stdout",
     "output_type": "stream",
     "text": [
      "   data_base  uf cliente                     ocupacao cnae_secao  \\\n",
      "0 2020-01-31  AC      PF  PF - Aposentado/pensionista          -   \n",
      "1 2020-01-31  AC      PF  PF - Aposentado/pensionista          -   \n",
      "2 2020-01-31  AC      PF  PF - Aposentado/pensionista          -   \n",
      "3 2020-01-31  AC      PF  PF - Aposentado/pensionista          -   \n",
      "4 2020-01-31  AC      PF  PF - Aposentado/pensionista          -   \n",
      "\n",
      "                                           porte  \\\n",
      "0  PF - Acima de 20 salários mínimos               \n",
      "1  PF - Acima de 20 salários mínimos               \n",
      "2  PF - Acima de 20 salários mínimos               \n",
      "3  PF - Acima de 20 salários mínimos               \n",
      "4  PF - Acima de 20 salários mínimos               \n",
      "\n",
      "                                 modalidade numero_de_operacoes  \\\n",
      "0                    PF - Cartão de crédito                 974   \n",
      "1                    PF - Cartão de crédito               <= 15   \n",
      "2  PF - Empréstimo com consignação em folha                 797   \n",
      "3  PF - Empréstimo com consignação em folha               <= 15   \n",
      "4  PF - Empréstimo sem consignação em folha                 198   \n",
      "\n",
      "   a_vencer_ate_90_dias  carteira_ativa  carteira_inadimplida_arrastada  \\\n",
      "0            4758621.08      6186180.64                        91888.44   \n",
      "1                 74.78          770.72                            0.00   \n",
      "2            1915326.67     32180285.36                       171468.42   \n",
      "3                  0.00        75981.96                        75981.96   \n",
      "4             351985.99      3153279.41                        45870.20   \n",
      "\n",
      "   ativo_problematico  \n",
      "0           157442.87  \n",
      "1              770.72  \n",
      "2           171468.42  \n",
      "3            75981.96  \n",
      "4           118921.38  \n"
     ]
    }
   ],
   "source": [
    "print(df.head())"
   ]
  },
  {
   "cell_type": "code",
   "execution_count": 14,
   "id": "d65c7ca0-e19e-48a2-a562-3200d80397aa",
   "metadata": {},
   "outputs": [],
   "source": [
    "df['modalidade'] = df['modalidade'].astype(int)"
   ]
  },
  {
   "cell_type": "code",
   "execution_count": 15,
   "id": "a01e31d0-d87f-47df-98a6-97e1bf5ea6ba",
   "metadata": {},
   "outputs": [
    {
     "name": "stdout",
     "output_type": "stream",
     "text": [
      "data_base                          datetime64[ns]\n",
      "uf                                string[pyarrow]\n",
      "cliente                           string[pyarrow]\n",
      "ocupacao                          string[pyarrow]\n",
      "cnae_secao                        string[pyarrow]\n",
      "porte                                       int64\n",
      "modalidade                                  int64\n",
      "numero_de_operacoes               string[pyarrow]\n",
      "a_vencer_ate_90_dias                      float64\n",
      "carteira_ativa                            float64\n",
      "carteira_inadimplida_arrastada            float64\n",
      "ativo_problematico                        float64\n",
      "dtype: object\n"
     ]
    }
   ],
   "source": [
    "print(df.dtypes)"
   ]
  },
  {
   "cell_type": "code",
   "execution_count": null,
   "id": "a2d9a0be-a73e-4b93-958d-8f0713123145",
   "metadata": {},
   "outputs": [],
   "source": []
  }
 ],
 "metadata": {
  "kernelspec": {
   "display_name": "Python 3 (ipykernel)",
   "language": "python",
   "name": "python3"
  },
  "language_info": {
   "codemirror_mode": {
    "name": "ipython",
    "version": 3
   },
   "file_extension": ".py",
   "mimetype": "text/x-python",
   "name": "python",
   "nbconvert_exporter": "python",
   "pygments_lexer": "ipython3",
   "version": "3.13.2"
  }
 },
 "nbformat": 4,
 "nbformat_minor": 5
}
