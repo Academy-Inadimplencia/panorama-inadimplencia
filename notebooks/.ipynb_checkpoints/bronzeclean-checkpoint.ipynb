{
 "cells": [
  {
   "cell_type": "code",
   "execution_count": null,
   "id": "741fccec-8f96-4fda-873d-91dba0509a99",
   "metadata": {},
   "outputs": [],
   "source": [
    "import pandas as pd\n",
    "import os"
   ]
  },
  {
   "cell_type": "code",
   "execution_count": null,
   "id": "76df03cb-bc4e-4284-8061-4f55ec50dd41",
   "metadata": {},
   "outputs": [],
   "source": [
    "# Diretório onde as planilhas estão localizadas\n",
    "dir = '../data/bronze/planilha_2023/'"
   ]
  },
  {
   "cell_type": "code",
   "execution_count": null,
   "id": "81bcad31",
   "metadata": {},
   "outputs": [],
   "source": [
    "# Lista de nomes das planilhas\n",
    "data_name = [\n",
    "    'planilha_202301.csv', 'planilha_202302.csv', 'planilha_202303.csv',\n",
    "    'planilha_202304.csv', 'planilha_202305.csv', 'planilha_202306.csv',\n",
    "    'planilha_202307.csv', 'planilha_202308.csv', 'planilha_202309.csv',\n",
    "    'planilha_202310.csv', 'planilha_202311.csv', 'planilha_202312.csv'\n",
    "]\n",
    "# Colunas para excluir\n",
    "columnOff = ['origem', 'indexador', 'cnae_subclasse']\n"
   ]
  },
  {
   "cell_type": "code",
   "execution_count": null,
   "id": "c44aedab-8de3-4b34-975c-fffd634eb091",
   "metadata": {},
   "outputs": [],
   "source": [
    "# Loop para processar cada planilha no diretório\n",
    "for data_name in os.listdir(dir):\n",
    "    if data_name.endswith('.csv'):\n",
    "        way_dbmonth = os.path.join(dir, data_name)\n",
    "        \n",
    "        # Carregar a planilha existente\n",
    "        df = pd.read_csv(way_dbmonth, sep=\";\")\n",
    "        \n",
    "        # Excluir as colunas mencionadas\n",
    "        df = df.drop(columns=columnOff)\n",
    "       # Salvar o DataFrame atualizado no mesmo arquivo CSV\n",
    "        df.to_csv(way_dbmonth, sep=\";\", index=False)   \n",
    " "
   ]
  }
 ],
 "metadata": {
  "kernelspec": {
   "display_name": "inad_venv",
   "language": "python",
   "name": "python3"
  },
  "language_info": {
   "codemirror_mode": {
    "name": "ipython",
    "version": 3
   },
   "file_extension": ".py",
   "mimetype": "text/x-python",
   "name": "python",
   "nbconvert_exporter": "python",
   "pygments_lexer": "ipython3",
   "version": "3.13.2"
  }
 },
 "nbformat": 4,
 "nbformat_minor": 5
}
