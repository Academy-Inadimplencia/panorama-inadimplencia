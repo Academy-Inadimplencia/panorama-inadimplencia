{
 "cells": [
  {
   "cell_type": "code",
   "execution_count": 1,
   "id": "174b0fb7-cdb0-4324-b7ff-58aa64f99e41",
   "metadata": {},
   "outputs": [],
   "source": [
    "import pandas as pd\n",
    "import numpy as np\n",
    "import matplotlib.pyplot as plt\n",
    "import seaborn as sns\n",
    "# Ler o arquivo \n",
    "df = pd.read_csv('df_cons_agg.csv')"
   ]
  },
  {
   "cell_type": "code",
   "execution_count": 3,
   "id": "5a34c663-72b1-4b85-a3f1-01863198fed4",
   "metadata": {},
   "outputs": [
    {
     "name": "stdout",
     "output_type": "stream",
     "text": [
      "data_base                          object\n",
      "uf                                 object\n",
      "cliente                            object\n",
      "ocupacao                           object\n",
      "cnae_secao                         object\n",
      "porte                              object\n",
      "modalidade                         object\n",
      "a_vencer_ate_90_dias              float64\n",
      "numero_de_operacoes                 int64\n",
      "carteira_ativa                    float64\n",
      "carteira_inadimplida_arrastada    float64\n",
      "ativo_problematico                float64\n",
      "dtype: object\n"
     ]
    }
   ],
   "source": [
    "print(df.dtypes)"
   ]
  },
  {
   "cell_type": "code",
   "execution_count": 2,
   "id": "aeb66167-7007-497e-a908-3bc55ce5edf5",
   "metadata": {
    "scrolled": true
   },
   "outputs": [
    {
     "data": {
      "text/html": [
       "<div>\n",
       "<style scoped>\n",
       "    .dataframe tbody tr th:only-of-type {\n",
       "        vertical-align: middle;\n",
       "    }\n",
       "\n",
       "    .dataframe tbody tr th {\n",
       "        vertical-align: top;\n",
       "    }\n",
       "\n",
       "    .dataframe thead th {\n",
       "        text-align: right;\n",
       "    }\n",
       "</style>\n",
       "<table border=\"1\" class=\"dataframe\">\n",
       "  <thead>\n",
       "    <tr style=\"text-align: right;\">\n",
       "      <th></th>\n",
       "      <th>data_base</th>\n",
       "      <th>uf</th>\n",
       "      <th>cliente</th>\n",
       "      <th>ocupacao</th>\n",
       "      <th>cnae_secao</th>\n",
       "      <th>porte</th>\n",
       "      <th>modalidade</th>\n",
       "      <th>a_vencer_ate_90_dias</th>\n",
       "      <th>numero_de_operacoes</th>\n",
       "      <th>carteira_ativa</th>\n",
       "      <th>carteira_inadimplida_arrastada</th>\n",
       "      <th>ativo_problematico</th>\n",
       "    </tr>\n",
       "  </thead>\n",
       "  <tbody>\n",
       "    <tr>\n",
       "      <th>0</th>\n",
       "      <td>2020-01-31</td>\n",
       "      <td>AC</td>\n",
       "      <td>PF</td>\n",
       "      <td>PF - Aposentado/pensionista</td>\n",
       "      <td>-</td>\n",
       "      <td>PF - Acima de 20 salários mínimos</td>\n",
       "      <td>PF - Cartão de crédito</td>\n",
       "      <td>5292551.34</td>\n",
       "      <td>1221</td>\n",
       "      <td>7134029.36</td>\n",
       "      <td>110554.13</td>\n",
       "      <td>200628.59</td>\n",
       "    </tr>\n",
       "    <tr>\n",
       "      <th>1</th>\n",
       "      <td>2020-01-31</td>\n",
       "      <td>AC</td>\n",
       "      <td>PF</td>\n",
       "      <td>PF - Aposentado/pensionista</td>\n",
       "      <td>-</td>\n",
       "      <td>PF - Acima de 20 salários mínimos</td>\n",
       "      <td>PF - Empréstimo com consignação em folha</td>\n",
       "      <td>2560250.69</td>\n",
       "      <td>1463</td>\n",
       "      <td>40406261.43</td>\n",
       "      <td>479130.32</td>\n",
       "      <td>479130.32</td>\n",
       "    </tr>\n",
       "    <tr>\n",
       "      <th>2</th>\n",
       "      <td>2020-01-31</td>\n",
       "      <td>AC</td>\n",
       "      <td>PF</td>\n",
       "      <td>PF - Aposentado/pensionista</td>\n",
       "      <td>-</td>\n",
       "      <td>PF - Acima de 20 salários mínimos</td>\n",
       "      <td>PF - Empréstimo sem consignação em folha</td>\n",
       "      <td>487161.78</td>\n",
       "      <td>289</td>\n",
       "      <td>5202472.57</td>\n",
       "      <td>95945.45</td>\n",
       "      <td>199366.41</td>\n",
       "    </tr>\n",
       "    <tr>\n",
       "      <th>3</th>\n",
       "      <td>2020-01-31</td>\n",
       "      <td>AC</td>\n",
       "      <td>PF</td>\n",
       "      <td>PF - Aposentado/pensionista</td>\n",
       "      <td>-</td>\n",
       "      <td>PF - Acima de 20 salários mínimos</td>\n",
       "      <td>PF - Habitacional</td>\n",
       "      <td>216562.86</td>\n",
       "      <td>34</td>\n",
       "      <td>5688298.55</td>\n",
       "      <td>0.00</td>\n",
       "      <td>174443.77</td>\n",
       "    </tr>\n",
       "    <tr>\n",
       "      <th>4</th>\n",
       "      <td>2020-01-31</td>\n",
       "      <td>AC</td>\n",
       "      <td>PF</td>\n",
       "      <td>PF - Aposentado/pensionista</td>\n",
       "      <td>-</td>\n",
       "      <td>PF - Acima de 20 salários mínimos</td>\n",
       "      <td>PF - Outros créditos</td>\n",
       "      <td>330918.45</td>\n",
       "      <td>261</td>\n",
       "      <td>1941302.78</td>\n",
       "      <td>38105.42</td>\n",
       "      <td>308276.42</td>\n",
       "    </tr>\n",
       "    <tr>\n",
       "      <th>...</th>\n",
       "      <td>...</td>\n",
       "      <td>...</td>\n",
       "      <td>...</td>\n",
       "      <td>...</td>\n",
       "      <td>...</td>\n",
       "      <td>...</td>\n",
       "      <td>...</td>\n",
       "      <td>...</td>\n",
       "      <td>...</td>\n",
       "      <td>...</td>\n",
       "      <td>...</td>\n",
       "      <td>...</td>\n",
       "    </tr>\n",
       "    <tr>\n",
       "      <th>1614739</th>\n",
       "      <td>2024-12-31</td>\n",
       "      <td>TO</td>\n",
       "      <td>PJ</td>\n",
       "      <td>-</td>\n",
       "      <td>PJ - Água, esgoto, atividades de gestão de res...</td>\n",
       "      <td>PJ - Pequeno</td>\n",
       "      <td>PJ - Cheque especial e conta garantida</td>\n",
       "      <td>259708.92</td>\n",
       "      <td>75</td>\n",
       "      <td>324275.62</td>\n",
       "      <td>0.00</td>\n",
       "      <td>59615.32</td>\n",
       "    </tr>\n",
       "    <tr>\n",
       "      <th>1614740</th>\n",
       "      <td>2024-12-31</td>\n",
       "      <td>TO</td>\n",
       "      <td>PJ</td>\n",
       "      <td>-</td>\n",
       "      <td>PJ - Água, esgoto, atividades de gestão de res...</td>\n",
       "      <td>PJ - Pequeno</td>\n",
       "      <td>PJ - Financiamento de infraestrutura/desenvolv...</td>\n",
       "      <td>69968.15</td>\n",
       "      <td>30</td>\n",
       "      <td>433905.12</td>\n",
       "      <td>0.00</td>\n",
       "      <td>0.00</td>\n",
       "    </tr>\n",
       "    <tr>\n",
       "      <th>1614741</th>\n",
       "      <td>2024-12-31</td>\n",
       "      <td>TO</td>\n",
       "      <td>PJ</td>\n",
       "      <td>-</td>\n",
       "      <td>PJ - Água, esgoto, atividades de gestão de res...</td>\n",
       "      <td>PJ - Pequeno</td>\n",
       "      <td>PJ - Investimento</td>\n",
       "      <td>722649.97</td>\n",
       "      <td>120</td>\n",
       "      <td>5747517.09</td>\n",
       "      <td>206370.07</td>\n",
       "      <td>249310.16</td>\n",
       "    </tr>\n",
       "    <tr>\n",
       "      <th>1614742</th>\n",
       "      <td>2024-12-31</td>\n",
       "      <td>TO</td>\n",
       "      <td>PJ</td>\n",
       "      <td>-</td>\n",
       "      <td>PJ - Água, esgoto, atividades de gestão de res...</td>\n",
       "      <td>PJ - Pequeno</td>\n",
       "      <td>PJ - Operações com recebíveis</td>\n",
       "      <td>6116.63</td>\n",
       "      <td>30</td>\n",
       "      <td>11699.50</td>\n",
       "      <td>0.00</td>\n",
       "      <td>0.00</td>\n",
       "    </tr>\n",
       "    <tr>\n",
       "      <th>1614743</th>\n",
       "      <td>2024-12-31</td>\n",
       "      <td>TO</td>\n",
       "      <td>PJ</td>\n",
       "      <td>-</td>\n",
       "      <td>PJ - Água, esgoto, atividades de gestão de res...</td>\n",
       "      <td>PJ - Pequeno</td>\n",
       "      <td>PJ - Outros créditos</td>\n",
       "      <td>367623.69</td>\n",
       "      <td>116</td>\n",
       "      <td>690547.35</td>\n",
       "      <td>16680.38</td>\n",
       "      <td>134172.96</td>\n",
       "    </tr>\n",
       "  </tbody>\n",
       "</table>\n",
       "<p>1614744 rows × 12 columns</p>\n",
       "</div>"
      ],
      "text/plain": [
       "          data_base  uf cliente                     ocupacao  \\\n",
       "0        2020-01-31  AC      PF  PF - Aposentado/pensionista   \n",
       "1        2020-01-31  AC      PF  PF - Aposentado/pensionista   \n",
       "2        2020-01-31  AC      PF  PF - Aposentado/pensionista   \n",
       "3        2020-01-31  AC      PF  PF - Aposentado/pensionista   \n",
       "4        2020-01-31  AC      PF  PF - Aposentado/pensionista   \n",
       "...             ...  ..     ...                          ...   \n",
       "1614739  2024-12-31  TO      PJ                            -   \n",
       "1614740  2024-12-31  TO      PJ                            -   \n",
       "1614741  2024-12-31  TO      PJ                            -   \n",
       "1614742  2024-12-31  TO      PJ                            -   \n",
       "1614743  2024-12-31  TO      PJ                            -   \n",
       "\n",
       "                                                cnae_secao  \\\n",
       "0                                                        -   \n",
       "1                                                        -   \n",
       "2                                                        -   \n",
       "3                                                        -   \n",
       "4                                                        -   \n",
       "...                                                    ...   \n",
       "1614739  PJ - Água, esgoto, atividades de gestão de res...   \n",
       "1614740  PJ - Água, esgoto, atividades de gestão de res...   \n",
       "1614741  PJ - Água, esgoto, atividades de gestão de res...   \n",
       "1614742  PJ - Água, esgoto, atividades de gestão de res...   \n",
       "1614743  PJ - Água, esgoto, atividades de gestão de res...   \n",
       "\n",
       "                                                 porte  \\\n",
       "0        PF - Acima de 20 salários mínimos               \n",
       "1        PF - Acima de 20 salários mínimos               \n",
       "2        PF - Acima de 20 salários mínimos               \n",
       "3        PF - Acima de 20 salários mínimos               \n",
       "4        PF - Acima de 20 salários mínimos               \n",
       "...                                                ...   \n",
       "1614739  PJ - Pequeno                                    \n",
       "1614740  PJ - Pequeno                                    \n",
       "1614741  PJ - Pequeno                                    \n",
       "1614742  PJ - Pequeno                                    \n",
       "1614743  PJ - Pequeno                                    \n",
       "\n",
       "                                                modalidade  \\\n",
       "0                                   PF - Cartão de crédito   \n",
       "1                 PF - Empréstimo com consignação em folha   \n",
       "2                 PF - Empréstimo sem consignação em folha   \n",
       "3                                        PF - Habitacional   \n",
       "4                                     PF - Outros créditos   \n",
       "...                                                    ...   \n",
       "1614739             PJ - Cheque especial e conta garantida   \n",
       "1614740  PJ - Financiamento de infraestrutura/desenvolv...   \n",
       "1614741                                  PJ - Investimento   \n",
       "1614742                      PJ - Operações com recebíveis   \n",
       "1614743                               PJ - Outros créditos   \n",
       "\n",
       "         a_vencer_ate_90_dias  numero_de_operacoes  carteira_ativa  \\\n",
       "0                  5292551.34                 1221      7134029.36   \n",
       "1                  2560250.69                 1463     40406261.43   \n",
       "2                   487161.78                  289      5202472.57   \n",
       "3                   216562.86                   34      5688298.55   \n",
       "4                   330918.45                  261      1941302.78   \n",
       "...                       ...                  ...             ...   \n",
       "1614739             259708.92                   75       324275.62   \n",
       "1614740              69968.15                   30       433905.12   \n",
       "1614741             722649.97                  120      5747517.09   \n",
       "1614742               6116.63                   30        11699.50   \n",
       "1614743             367623.69                  116       690547.35   \n",
       "\n",
       "         carteira_inadimplida_arrastada  ativo_problematico  \n",
       "0                             110554.13           200628.59  \n",
       "1                             479130.32           479130.32  \n",
       "2                              95945.45           199366.41  \n",
       "3                                  0.00           174443.77  \n",
       "4                              38105.42           308276.42  \n",
       "...                                 ...                 ...  \n",
       "1614739                            0.00            59615.32  \n",
       "1614740                            0.00                0.00  \n",
       "1614741                       206370.07           249310.16  \n",
       "1614742                            0.00                0.00  \n",
       "1614743                        16680.38           134172.96  \n",
       "\n",
       "[1614744 rows x 12 columns]"
      ]
     },
     "execution_count": 2,
     "metadata": {},
     "output_type": "execute_result"
    }
   ],
   "source": [
    "df"
   ]
  },
  {
   "cell_type": "code",
   "execution_count": null,
   "id": "7fa83fb9-6b65-4e9a-9bdc-458b164d39ae",
   "metadata": {},
   "outputs": [],
   "source": []
  },
  {
   "cell_type": "code",
   "execution_count": 3,
   "id": "3d960994-f9f9-4201-ba72-d1e739d1d94e",
   "metadata": {},
   "outputs": [
    {
     "name": "stdout",
     "output_type": "stream",
     "text": [
      "data_base                         0\n",
      "uf                                0\n",
      "cliente                           0\n",
      "ocupacao                          0\n",
      "cnae_secao                        0\n",
      "porte                             0\n",
      "modalidade                        0\n",
      "a_vencer_ate_90_dias              0\n",
      "numero_de_operacoes               0\n",
      "carteira_ativa                    0\n",
      "carteira_inadimplida_arrastada    0\n",
      "ativo_problematico                0\n",
      "dtype: int64\n"
     ]
    }
   ],
   "source": [
    "valores_nulos = df.isnull().sum()\n",
    "print(valores_nulos)"
   ]
  },
  {
   "cell_type": "code",
   "execution_count": 15,
   "id": "965f4eb5-05e6-4539-a1d7-5c827af29e92",
   "metadata": {},
   "outputs": [
    {
     "name": "stdout",
     "output_type": "stream",
     "text": [
      "Total de PFs: 776,865\n",
      "PFs com valores a vencer: 764,412\n",
      "Porcentagem: 98.40%\n"
     ]
    }
   ],
   "source": [
    "# 1. Filtrar PFs (considerando que \"PF\" sempre aparece no início)\n",
    "pf_mask = df['porte'].str.startswith('PF', na=False)\n",
    "pf_df = df[pf_mask]\n",
    "\n",
    "# 2. Calcular estatísticas\n",
    "total_pf = len(pf_df)\n",
    "pf_com_vencer = pf_df[pf_df['a_vencer_ate_90_dias'] > 0].shape[0]\n",
    "porcentagem = (pf_com_vencer / total_pf) * 100\n",
    "\n",
    "print(f\"Total de PFs: {total_pf:,}\")\n",
    "print(f\"PFs com valores a vencer: {pf_com_vencer:,}\")\n",
    "print(f\"Porcentagem: {porcentagem:.2f}%\")"
   ]
  },
  {
   "cell_type": "code",
   "execution_count": 18,
   "id": "a6b028e0-8d13-4595-8a83-1b362e4890fa",
   "metadata": {},
   "outputs": [
    {
     "name": "stdout",
     "output_type": "stream",
     "text": [
      "porte  a_vencer_ate_90_dias\n",
      "   PF          3.665619e+07\n"
     ]
    }
   ],
   "source": [
    "# Supondo que seu DataFrame tenha:\n",
    "# - 'PORTE': faixas como \"PF - Acima de 20 salários mínimos\", \"PJ - Micro\", etc.\n",
    "# - 'target_inadimplencia': 0 (não inadimplente) ou 1 (inadimplente)\n",
    "\n",
    "# 1. Agrupa por 'PORTE' e calcula a média do target\n",
    "analise_porte = df.groupby('porte')['a_vencer_ate_90_dias'].mean().reset_index()\n",
    "analise_porte.columns = ['porte', 'a_vencer_ate_90_dias']  # Renomeia colunas\n",
    "\n",
    "# 2. Ordena do maior para o menor percentual (opcional)\n",
    "analise_porte = analise_porte.sort_values('a_vencer_ate_90_dias', ascending=False)\n",
    "\n",
    "# 3. Formata a saída para melhor visualização\n",
    "analise_porte['a_vencer_ate_90_dias'] = analise_porte['a_vencer_ate_90_dias'].round(6)  # 6 casas decimais\n",
    "\n",
    "print(analise_porte.to_string(index=False))"
   ]
  },
  {
   "cell_type": "code",
   "execution_count": 21,
   "id": "da969cfa-c99e-4f6c-945b-27bcd69e5b5e",
   "metadata": {},
   "outputs": [
    {
     "name": "stdout",
     "output_type": "stream",
     "text": [
      "       a_vencer_ate_90_dias  numero_de_operacoes  carteira_ativa  \\\n",
      "count          1.614744e+06         1.614744e+06    1.614744e+06   \n",
      "mean           3.128606e+07         2.029164e+04    1.771706e+08   \n",
      "std            2.349314e+08         1.947334e+05    1.009302e+09   \n",
      "min            0.000000e+00         1.500000e+01    1.010000e+00   \n",
      "25%            1.509620e+05         7.500000e+01    9.431978e+05   \n",
      "50%            1.513043e+06         4.960000e+02    9.579957e+06   \n",
      "75%            1.021727e+07         3.466000e+03    6.904164e+07   \n",
      "max            2.336185e+10         2.270998e+07    6.992905e+10   \n",
      "\n",
      "       carteira_inadimplida_arrastada  ativo_problematico  \n",
      "count                    1.614744e+06        1.614744e+06  \n",
      "mean                     5.080204e+06        1.242594e+07  \n",
      "std                      3.041238e+07        1.010416e+08  \n",
      "min                      0.000000e+00        0.000000e+00  \n",
      "25%                      0.000000e+00        7.671055e+03  \n",
      "50%                      1.942302e+05        4.936348e+05  \n",
      "75%                      2.114993e+06        4.788603e+06  \n",
      "max                      6.683570e+09        1.495901e+10  \n"
     ]
    }
   ],
   "source": [
    "print(df.describe())"
   ]
  },
  {
   "cell_type": "code",
   "execution_count": 22,
   "id": "9abfca88-c9c1-4f48-afba-6785865edb40",
   "metadata": {},
   "outputs": [
    {
     "name": "stdout",
     "output_type": "stream",
     "text": [
      "porte\n",
      "PF    776865\n",
      "Name: count, dtype: int64\n"
     ]
    }
   ],
   "source": [
    "print(df['porte'].value_counts())"
   ]
  },
  {
   "cell_type": "code",
   "execution_count": 26,
   "id": "f3c4235b-c633-4e5a-b79b-4efd6440607f",
   "metadata": {},
   "outputs": [
    {
     "name": "stdout",
     "output_type": "stream",
     "text": [
      "porte\n",
      "PF    7.857154e+08\n",
      "Name: carteira_inadimplida_arrastada, dtype: float64\n"
     ]
    },
    {
     "data": {
      "image/png": "[encoded data removed]",
      "text/plain": [
       "<Figure size 640x480 with 1 Axes>"
      ]
     },
     "metadata": {},
     "output_type": "display_data"
    }
   ],
   "source": [
    "taxa_inadimplencia_por_porte = df.groupby('porte')['carteira_inadimplida_arrastada'].mean() * 100\n",
    "print(taxa_inadimplencia_por_porte)\n",
    "\n",
    "# Gráfico de barras da taxa de inadimplência por porte\n",
    "taxa_inadimplencia_por_porte.plot(kind='bar', title='Taxa de Inadimplência por Porte')\n",
    "plt.ylabel('Taxa de Inadimplência (%)')\n",
    "plt.show()"
   ]
  },
  {
   "cell_type": "code",
   "execution_count": 35,
   "id": "cc06ffba-110e-4011-b780-d54dcd183a3a",
   "metadata": {},
   "outputs": [],
   "source": [
    "import sklearn\n",
    "from sklearn.preprocessing import MinMaxScaler, LabelEncoder\n",
    "\n",
    "# Codificação de variáveis categóricas\n",
    "le = LabelEncoder()\n",
    "data['porte'] = le.fit_transform(data['porte'])  # PF = 0, PJ = 1\n",
    "\n",
    "# Normalização\n",
    "scaler = MinMaxScaler()\n",
    "data['a_vencer_ate_90_dias'] = scaler.fit_transform(data[['a_vencer_ate_90_dias']])\n"
   ]
  },
  {
   "cell_type": "code",
   "execution_count": 36,
   "id": "295871ca-631d-4734-8a7b-1fd5c061e6ce",
   "metadata": {},
   "outputs": [
    {
     "name": "stdout",
     "output_type": "stream",
     "text": [
      "Total de PFs: 776,865\n",
      "PFs com valores a vencer: 764,412\n",
      "Porcentagem de PFs com valores a vencer: 98.40%\n",
      "Total de PJs: 837,879\n",
      "PJs com valores a vencer: 813,161\n",
      "Porcentagem de PJs com valores a vencer: 97.05%\n"
     ]
    }
   ],
   "source": [
    "import pandas as pd\n",
    "\n",
    "# Supondo que os dados estejam em um arquivo CSV chamado 'dados.csv'\n",
    "# Você pode ajustar o caminho do arquivo conforme necessário\n",
    "df = pd.read_csv('df_cons_agg.csv')\n",
    "\n",
    "# 1. Filtrar PFs (considerando que \"PF\" sempre aparece no início)\n",
    "pf_mask = df['porte'].str.startswith('PF', na=False)\n",
    "pf_df = df[pf_mask]\n",
    "\n",
    "# 2. Calcular estatísticas para PF\n",
    "total_pf = len(pf_df)\n",
    "pf_com_vencer = pf_df[pf_df['a_vencer_ate_90_dias'] > 0].shape[0]\n",
    "porcentagem_pf = (pf_com_vencer / total_pf) * 100\n",
    "\n",
    "print(f\"Total de PFs: {total_pf:,}\")\n",
    "print(f\"PFs com valores a vencer: {pf_com_vencer:,}\")\n",
    "print(f\"Porcentagem de PFs com valores a vencer: {porcentagem_pf:.2f}%\")\n",
    "\n",
    "# 3. Filtrar PJs (considerando que \"PJ\" sempre aparece no início)\n",
    "pj_mask = df['porte'].str.startswith('PJ', na=False)\n",
    "pj_df = df[pj_mask]\n",
    "\n",
    "# 4. Calcular estatísticas para PJ\n",
    "total_pj = len(pj_df)\n",
    "pj_com_vencer = pj_df[pj_df['a_vencer_ate_90_dias'] > 0].shape[0]\n",
    "porcentagem_pj = (pj_com_vencer / total_pj) * 100\n",
    "\n",
    "print(f\"Total de PJs: {total_pj:,}\")\n",
    "print(f\"PJs com valores a vencer: {pj_com_vencer:,}\")\n",
    "print(f\"Porcentagem de PJs com valores a vencer: {porcentagem_pj:.2f}%\")"
   ]
  },
  {
   "cell_type": "code",
   "execution_count": 37,
   "id": "cc95a70b-dd11-44f2-a9e5-0b720b8090d8",
   "metadata": {},
   "outputs": [
    {
     "data": {
      "image/png": "[encoded data removed]",
      "text/plain": [
       "<Figure size 1200x600 with 2 Axes>"
      ]
     },
     "metadata": {},
     "output_type": "display_data"
    }
   ],
   "source": [
    "# Criar gráficos\n",
    "labels = ['PFs', 'PJs']\n",
    "totais = [total_pf, total_pj]\n",
    "com_vencer = [pf_com_vencer, pj_com_vencer]\n",
    " \n",
    "x = range(len(labels))\n",
    " \n",
    "# Gráfico de barras para total de PFs e PJs\n",
    "plt.figure(figsize=(12, 6))\n",
    " \n",
    "plt.subplot(1, 2, 1)\n",
    "plt.bar(x, totais, color=['blue', 'orange'], alpha=0.7)\n",
    "plt.xticks(x, labels)\n",
    "plt.title('Total de PFs e PJs')\n",
    "plt.ylabel('Número de Registros')\n",
    " \n",
    "# Gráfico de barras para PFs e PJs com valores a vencer\n",
    "plt.subplot(1, 2, 2)\n",
    "plt.bar(x, com_vencer, color=['blue', 'orange'], alpha=0.7)\n",
    "plt.xticks(x, labels)\n",
    "plt.title('PFs e PJs com Valores a Vencer')\n",
    "plt.ylabel('Número de Registros')\n",
    " \n",
    "plt.tight_layout()\n",
    "plt.show()"
   ]
  },
  {
   "cell_type": "code",
   "execution_count": 40,
   "id": "f75b2540-b504-499a-a938-d6349f891d3d",
   "metadata": {},
   "outputs": [
    {
     "data": {
      "text/plain": [
       "<Figure size 800x600 with 0 Axes>"
      ]
     },
     "metadata": {},
     "output_type": "display_data"
    },
    {
     "data": {
      "image/png": "[encoded data removed]",
      "text/plain": [
       "<Figure size 640x480 with 1 Axes>"
      ]
     },
     "metadata": {},
     "output_type": "display_data"
    }
   ],
   "source": [
    "# 5. Criar gráficos de barras empilhadas\n",
    "labels = ['PFs', 'PJs']\n",
    "totais = [total_pf, total_pj]\n",
    "com_vencer = [pf_com_vencer, pj_com_vencer]\n",
    " \n",
    "# Criar um DataFrame para facilitar a plotagem\n",
    "dados = pd.DataFrame({\n",
    "    'Total': totais,\n",
    "    'Com Vencer': com_vencer\n",
    "}, index=labels)\n",
    " \n",
    "# Gráfico de barras empilhadas\n",
    "plt.figure(figsize=(8, 6))\n",
    "dados.plot(kind='bar', stacked=True, color=['lightblue', 'orange'], alpha=0.7)\n",
    " \n",
    "plt.title('Total de PFs e PJs com Valores a Vencer')\n",
    "plt.ylabel('Número de Registros')\n",
    "plt.xlabel('Tipo de Cliente')\n",
    "plt.xticks(rotation=0)\n",
    "plt.legend(title='Status', loc='upper right')\n",
    "plt.tight_layout()\n",
    "plt.show()"
   ]
  },
  {
   "cell_type": "code",
   "execution_count": 41,
   "id": "d4fee6c4-1dca-4a48-923c-a6807b8d4ad0",
   "metadata": {},
   "outputs": [
    {
     "data": {
      "image/png": "[encoded data removed]",
      "text/plain": [
       "<Figure size 1000x600 with 1 Axes>"
      ]
     },
     "metadata": {},
     "output_type": "display_data"
    }
   ],
   "source": [
    "import matplotlib.pyplot as plt\n",
    "import seaborn as sns\n",
    "\n",
    "# Histograma de a_vencer_ate_90_dias\n",
    "plt.figure(figsize=(10, 6))\n",
    "sns.histplot(data['a_vencer_ate_90_dias'], bins=30, kde=True)\n",
    "plt.title('Distribuição de Valores a Vencer até 90 Dias')\n",
    "plt.xlabel('Valores a Vencer')\n",
    "plt.ylabel('Frequência')\n",
    "plt.show()"
   ]
  },
  {
   "cell_type": "code",
   "execution_count": 44,
   "id": "bddeae50-e88a-4df4-b929-3bf63ed65498",
   "metadata": {},
   "outputs": [
    {
     "ename": "ValueError",
     "evalue": "could not convert string to float: '2020-01-31'",
     "output_type": "error",
     "traceback": [
      "\u001b[31m---------------------------------------------------------------------------\u001b[39m",
      "\u001b[31mValueError\u001b[39m                                Traceback (most recent call last)",
      "\u001b[36mCell\u001b[39m\u001b[36m \u001b[39m\u001b[32mIn[44]\u001b[39m\u001b[32m, line 2\u001b[39m\n\u001b[32m      1\u001b[39m \u001b[38;5;66;03m# Matriz de correlação\u001b[39;00m\n\u001b[32m----> \u001b[39m\u001b[32m2\u001b[39m correlation_matrix = \u001b[43mdata\u001b[49m\u001b[43m.\u001b[49m\u001b[43mcorr\u001b[49m\u001b[43m(\u001b[49m\u001b[43m)\u001b[49m\n\u001b[32m      3\u001b[39m plt.figure(figsize=(\u001b[32m12\u001b[39m, \u001b[32m8\u001b[39m))\n\u001b[32m      4\u001b[39m sns.heatmap(correlation_matrix, annot=\u001b[38;5;28;01mTrue\u001b[39;00m, fmt=\u001b[33m\"\u001b[39m\u001b[33m.2f\u001b[39m\u001b[33m\"\u001b[39m, cmap=\u001b[33m'\u001b[39m\u001b[33mcoolwarm\u001b[39m\u001b[33m'\u001b[39m)\n",
      "\u001b[36mFile \u001b[39m\u001b[32m~\\AppData\\Local\\Programs\\Python\\Python313\\Lib\\site-packages\\pandas\\core\\frame.py:11049\u001b[39m, in \u001b[36mDataFrame.corr\u001b[39m\u001b[34m(self, method, min_periods, numeric_only)\u001b[39m\n\u001b[32m  11047\u001b[39m cols = data.columns\n\u001b[32m  11048\u001b[39m idx = cols.copy()\n\u001b[32m> \u001b[39m\u001b[32m11049\u001b[39m mat = \u001b[43mdata\u001b[49m\u001b[43m.\u001b[49m\u001b[43mto_numpy\u001b[49m\u001b[43m(\u001b[49m\u001b[43mdtype\u001b[49m\u001b[43m=\u001b[49m\u001b[38;5;28;43mfloat\u001b[39;49m\u001b[43m,\u001b[49m\u001b[43m \u001b[49m\u001b[43mna_value\u001b[49m\u001b[43m=\u001b[49m\u001b[43mnp\u001b[49m\u001b[43m.\u001b[49m\u001b[43mnan\u001b[49m\u001b[43m,\u001b[49m\u001b[43m \u001b[49m\u001b[43mcopy\u001b[49m\u001b[43m=\u001b[49m\u001b[38;5;28;43;01mFalse\u001b[39;49;00m\u001b[43m)\u001b[49m\n\u001b[32m  11051\u001b[39m \u001b[38;5;28;01mif\u001b[39;00m method == \u001b[33m\"\u001b[39m\u001b[33mpearson\u001b[39m\u001b[33m\"\u001b[39m:\n\u001b[32m  11052\u001b[39m     correl = libalgos.nancorr(mat, minp=min_periods)\n",
      "\u001b[36mFile \u001b[39m\u001b[32m~\\AppData\\Local\\Programs\\Python\\Python313\\Lib\\site-packages\\pandas\\core\\frame.py:1993\u001b[39m, in \u001b[36mDataFrame.to_numpy\u001b[39m\u001b[34m(self, dtype, copy, na_value)\u001b[39m\n\u001b[32m   1991\u001b[39m \u001b[38;5;28;01mif\u001b[39;00m dtype \u001b[38;5;129;01mis\u001b[39;00m \u001b[38;5;129;01mnot\u001b[39;00m \u001b[38;5;28;01mNone\u001b[39;00m:\n\u001b[32m   1992\u001b[39m     dtype = np.dtype(dtype)\n\u001b[32m-> \u001b[39m\u001b[32m1993\u001b[39m result = \u001b[38;5;28;43mself\u001b[39;49m\u001b[43m.\u001b[49m\u001b[43m_mgr\u001b[49m\u001b[43m.\u001b[49m\u001b[43mas_array\u001b[49m\u001b[43m(\u001b[49m\u001b[43mdtype\u001b[49m\u001b[43m=\u001b[49m\u001b[43mdtype\u001b[49m\u001b[43m,\u001b[49m\u001b[43m \u001b[49m\u001b[43mcopy\u001b[49m\u001b[43m=\u001b[49m\u001b[43mcopy\u001b[49m\u001b[43m,\u001b[49m\u001b[43m \u001b[49m\u001b[43mna_value\u001b[49m\u001b[43m=\u001b[49m\u001b[43mna_value\u001b[49m\u001b[43m)\u001b[49m\n\u001b[32m   1994\u001b[39m \u001b[38;5;28;01mif\u001b[39;00m result.dtype \u001b[38;5;129;01mis\u001b[39;00m \u001b[38;5;129;01mnot\u001b[39;00m dtype:\n\u001b[32m   1995\u001b[39m     result = np.asarray(result, dtype=dtype)\n",
      "\u001b[36mFile \u001b[39m\u001b[32m~\\AppData\\Local\\Programs\\Python\\Python313\\Lib\\site-packages\\pandas\\core\\internals\\managers.py:1694\u001b[39m, in \u001b[36mBlockManager.as_array\u001b[39m\u001b[34m(self, dtype, copy, na_value)\u001b[39m\n\u001b[32m   1692\u001b[39m         arr.flags.writeable = \u001b[38;5;28;01mFalse\u001b[39;00m\n\u001b[32m   1693\u001b[39m \u001b[38;5;28;01melse\u001b[39;00m:\n\u001b[32m-> \u001b[39m\u001b[32m1694\u001b[39m     arr = \u001b[38;5;28;43mself\u001b[39;49m\u001b[43m.\u001b[49m\u001b[43m_interleave\u001b[49m\u001b[43m(\u001b[49m\u001b[43mdtype\u001b[49m\u001b[43m=\u001b[49m\u001b[43mdtype\u001b[49m\u001b[43m,\u001b[49m\u001b[43m \u001b[49m\u001b[43mna_value\u001b[49m\u001b[43m=\u001b[49m\u001b[43mna_value\u001b[49m\u001b[43m)\u001b[49m\n\u001b[32m   1695\u001b[39m     \u001b[38;5;66;03m# The underlying data was copied within _interleave, so no need\u001b[39;00m\n\u001b[32m   1696\u001b[39m     \u001b[38;5;66;03m# to further copy if copy=True or setting na_value\u001b[39;00m\n\u001b[32m   1698\u001b[39m \u001b[38;5;28;01mif\u001b[39;00m na_value \u001b[38;5;129;01mis\u001b[39;00m lib.no_default:\n",
      "\u001b[36mFile \u001b[39m\u001b[32m~\\AppData\\Local\\Programs\\Python\\Python313\\Lib\\site-packages\\pandas\\core\\internals\\managers.py:1753\u001b[39m, in \u001b[36mBlockManager._interleave\u001b[39m\u001b[34m(self, dtype, na_value)\u001b[39m\n\u001b[32m   1751\u001b[39m     \u001b[38;5;28;01melse\u001b[39;00m:\n\u001b[32m   1752\u001b[39m         arr = blk.get_values(dtype)\n\u001b[32m-> \u001b[39m\u001b[32m1753\u001b[39m     \u001b[43mresult\u001b[49m\u001b[43m[\u001b[49m\u001b[43mrl\u001b[49m\u001b[43m.\u001b[49m\u001b[43mindexer\u001b[49m\u001b[43m]\u001b[49m = arr\n\u001b[32m   1754\u001b[39m     itemmask[rl.indexer] = \u001b[32m1\u001b[39m\n\u001b[32m   1756\u001b[39m \u001b[38;5;28;01mif\u001b[39;00m \u001b[38;5;129;01mnot\u001b[39;00m itemmask.all():\n",
      "\u001b[31mValueError\u001b[39m: could not convert string to float: '2020-01-31'"
     ]
    }
   ],
   "source": [
    "# Matriz de correlação\n",
    "correlation_matrix = data.corr()\n",
    "plt.figure(figsize=(12, 8))\n",
    "sns.heatmap(correlation_matrix, annot=True, fmt=\".2f\", cmap='coolwarm')\n",
    "plt.title('Matriz de Correlação')\n",
    "plt.show()\n"
   ]
  },
  {
   "cell_type": "code",
   "execution_count": 45,
   "id": "21861d52-a4bb-4a4f-81e0-76b42db9fdb2",
   "metadata": {},
   "outputs": [
    {
     "name": "stdout",
     "output_type": "stream",
     "text": [
      "[[ 69273  19329]\n",
      " [ 19852 214495]]\n",
      "              precision    recall  f1-score   support\n",
      "\n",
      "       False       0.78      0.78      0.78     88602\n",
      "        True       0.92      0.92      0.92    234347\n",
      "\n",
      "    accuracy                           0.88    322949\n",
      "   macro avg       0.85      0.85      0.85    322949\n",
      "weighted avg       0.88      0.88      0.88    322949\n",
      "\n"
     ]
    }
   ],
   "source": [
    "from sklearn.model_selection import train_test_split\n",
    "from sklearn.preprocessing import LabelEncoder, MinMaxScaler\n",
    "from sklearn.tree import DecisionTreeClassifier\n",
    "from sklearn.metrics import classification_report, confusion_matrix\n",
    "\n",
    "# Codificação de variáveis categóricas\n",
    "le = LabelEncoder()\n",
    "data['porte'] = le.fit_transform(data['porte'])  # PF = 0, PJ = 1\n",
    "data['cliente'] = le.fit_transform(data['cliente'])  # PF/PJ\n",
    "\n",
    "# Normalização\n",
    "scaler = MinMaxScaler()\n",
    "data['a_vencer_ate_90_dias'] = scaler.fit_transform(data[['a_vencer_ate_90_dias']])\n",
    "\n",
    "# Definir variáveis independentes (X) e dependentes (y)\n",
    "X = data[['porte', 'a_vencer_ate_90_dias', 'numero_de_operacoes', 'carteira_ativa']]\n",
    "y = data['carteira_inadimplida_arrastada'] > 0  # Supondo que > 0 indica inadimplência\n",
    "\n",
    "# Dividir os dados\n",
    "X_train, X_test, y_train, y_test = train_test_split(X, y, test_size=0.2, random_state=42)\n",
    "\n",
    "# Criar o modelo de árvore de decisão\n",
    "model = DecisionTreeClassifier()\n",
    "model.fit(X_train, y_train)\n",
    "\n",
    "# Fazer previsões\n",
    "y_pred = model.predict(X_test)\n",
    "\n",
    "# Avaliar o modelo\n",
    "print(confusion_matrix(y_test, y_pred))\n",
    "print(classification_report(y_test, y_pred))\n"
   ]
  },
  {
   "cell_type": "code",
   "execution_count": null,
   "id": "afe18fcf-779d-492b-b989-221a3c1aa33f",
   "metadata": {},
   "outputs": [],
   "source": []
  }
 ],
 "metadata": {
  "kernelspec": {
   "display_name": "Python 3 (ipykernel)",
   "language": "python",
   "name": "python3"
  },
  "language_info": {
   "codemirror_mode": {
    "name": "ipython",
    "version": 3
   },
   "file_extension": ".py",
   "mimetype": "text/x-python",
   "name": "python",
   "nbconvert_exporter": "python",
   "pygments_lexer": "ipython3",
   "version": "3.13.2"
  }
 },
 "nbformat": 4,
 "nbformat_minor": 5
}
